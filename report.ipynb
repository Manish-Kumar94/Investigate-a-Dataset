{
 "cells": [
  {
   "cell_type": "markdown",
   "metadata": {},
   "source": [
    "## *Note:-* Titanic Data Set used"
   ]
  },
  {
   "cell_type": "markdown",
   "metadata": {},
   "source": [
    "> ## Question Phase\n",
    "***"
   ]
  },
  {
   "cell_type": "markdown",
   "metadata": {},
   "source": [
    "There are many questions that can be answered by the given data set(titanic_data.csv).      \n",
    "Some of the questions are:-"
   ]
  },
  {
   "cell_type": "markdown",
   "metadata": {},
   "source": [
    "**Q1.** Compare the survial rate on the basis of gender of passangers ?\n",
    "\n",
    "**Q2.** How the passanger survival varies with the age of the passangers."
   ]
  },
  {
   "cell_type": "markdown",
   "metadata": {},
   "source": [
    "> ## Answer to the Question\n",
    "***"
   ]
  },
  {
   "cell_type": "markdown",
   "metadata": {},
   "source": [
    "**Exploration of the titanic data set**\n",
    "_________________________________________"
   ]
  },
  {
   "cell_type": "markdown",
   "metadata": {},
   "source": [
    "Firstly we should know about the data set. What are the colums? Are the columns have proper data? is there any data that is missing or not in the good format, if yes then correct that.\n",
    "\n",
    "**Code:-**"
   ]
  },
  {
   "cell_type": "code",
   "execution_count": 344,
   "metadata": {
    "collapsed": false
   },
   "outputs": [],
   "source": [
    "import matplotlib.pyplot as plt\n",
    "import numpy as np\n",
    "import pandas as pd\n",
    "import seaborn as sns\n",
    "%matplotlib inline\n",
    "plt.rcParams['font.size'] = 20"
   ]
  },
  {
   "cell_type": "code",
   "execution_count": 345,
   "metadata": {
    "collapsed": true
   },
   "outputs": [],
   "source": [
    "titanic_data=pd.read_csv('titanic_data.csv')             #Get the data from the titanic_data.csv"
   ]
  },
  {
   "cell_type": "code",
   "execution_count": 346,
   "metadata": {
    "collapsed": false
   },
   "outputs": [
    {
     "name": "stdout",
     "output_type": "stream",
     "text": [
      "['PassengerId' 'Survived' 'Pclass' 'Name' 'Sex' 'Age' 'SibSp' 'Parch'\n",
      " 'Ticket' 'Fare' 'Cabin' 'Embarked']\n"
     ]
    }
   ],
   "source": [
    "print titanic_data.columns.values"
   ]
  },
  {
   "cell_type": "code",
   "execution_count": 347,
   "metadata": {
    "collapsed": false
   },
   "outputs": [
    {
     "name": "stdout",
     "output_type": "stream",
     "text": [
      "   PassengerId  Survived  Pclass  \\\n",
      "0            1         0       3   \n",
      "1            2         1       1   \n",
      "2            3         1       3   \n",
      "\n",
      "                                                Name     Sex   Age  SibSp  \\\n",
      "0                            Braund, Mr. Owen Harris    male  22.0      1   \n",
      "1  Cumings, Mrs. John Bradley (Florence Briggs Th...  female  38.0      1   \n",
      "2                             Heikkinen, Miss. Laina  female  26.0      0   \n",
      "\n",
      "   Parch            Ticket     Fare Cabin Embarked  \n",
      "0      0         A/5 21171   7.2500   NaN        S  \n",
      "1      0          PC 17599  71.2833   C85        C  \n",
      "2      0  STON/O2. 3101282   7.9250   NaN        S  \n"
     ]
    }
   ],
   "source": [
    "print titanic_data.head(3)"
   ]
  },
  {
   "cell_type": "code",
   "execution_count": 348,
   "metadata": {
    "collapsed": false
   },
   "outputs": [
    {
     "name": "stdout",
     "output_type": "stream",
     "text": [
      "891\n",
      "891\n",
      "The two values are equal so it means there is no duplicate Passenger Id available\n"
     ]
    }
   ],
   "source": [
    "num_pass = titanic_data['PassengerId'].count()\n",
    "print num_pass\n",
    "print len(titanic_data['PassengerId'].unique())\n",
    "if num_pass == len(titanic_data['PassengerId'].unique()) :\n",
    "    print 'The two values are equal so it means there is no duplicate Passenger Id available'"
   ]
  },
  {
   "cell_type": "code",
   "execution_count": 349,
   "metadata": {
    "collapsed": false
   },
   "outputs": [
    {
     "name": "stdout",
     "output_type": "stream",
     "text": [
      "Every passanger has been correctly marked whether survived or not \n"
     ]
    }
   ],
   "source": [
    "s=[0,1]\n",
    "temp=0\n",
    "for survival in titanic_data['Survived']:\n",
    "    if survival not in s:\n",
    "        temp=1\n",
    "        print 'There is atleast one value for which the survival status is not defined'\n",
    "        break\n",
    "if temp == 0:\n",
    "    print 'Every passanger has been correctly marked whether survived or not '"
   ]
  },
  {
   "cell_type": "markdown",
   "metadata": {},
   "source": [
    "Lets now look at the **Age** of the passangers"
   ]
  },
  {
   "cell_type": "code",
   "execution_count": 350,
   "metadata": {
    "collapsed": false
   },
   "outputs": [
    {
     "name": "stdout",
     "output_type": "stream",
     "text": [
      "One of the invalid age is:  nan\n",
      "Number of valid values 714\n",
      "Number of invalid values 177\n",
      "Total= 891\n"
     ]
    }
   ],
   "source": [
    "cr=0\n",
    "cw=0\n",
    "for age in titanic_data['Age']:\n",
    "    if age > 0 and age < 100:\n",
    "        cr=cr+1\n",
    "    else:\n",
    "        cw=cw+1\n",
    "        if cw==1:\n",
    "            print 'One of the invalid age is: ',age\n",
    "if cw == 0:\n",
    "    print 'There is nothing wrong with the Age column'\n",
    "else:\n",
    "    print 'Number of valid values',cr\n",
    "    print 'Number of invalid values',cw\n",
    "print 'Total=',cw+cr"
   ]
  },
  {
   "cell_type": "markdown",
   "metadata": {},
   "source": [
    "Now we can tell that there are 177 invalid enteries. So firstly print one of the entery to see the problem.\n",
    "\n",
    "The invalid age is NaN(not a number). So it means that the age is not given for some passangers.\n",
    "\n",
    "So lets find out among 177 invalid values how many are nan ?"
   ]
  },
  {
   "cell_type": "code",
   "execution_count": 351,
   "metadata": {
    "collapsed": false
   },
   "outputs": [
    {
     "name": "stdout",
     "output_type": "stream",
     "text": [
      "All invalid values are NaN\n"
     ]
    }
   ],
   "source": [
    "c=0\n",
    "for age in titanic_data['Age']:\n",
    "    if np.isnan(age) :\n",
    "        c=c+1\n",
    "if c==cw:\n",
    "    print 'All invalid values are NaN'\n",
    "else:\n",
    "    print 'There is still some values of age that are written but are invalid'"
   ]
  },
  {
   "cell_type": "markdown",
   "metadata": {},
   "source": [
    ">So that means There are 177 empty cells of Age column.\n",
    "\n",
    ">And we should take it in account when we gona deal with the age. Lets say we want to see How the survival rate vary with the age then we should either discard those rows where the age values are not given, Or give some value to all empty age colums like '0'."
   ]
  },
  {
   "cell_type": "markdown",
   "metadata": {},
   "source": [
    "**Q1.** Compare the survial rate on the basis of gender of passangers ?\n",
    "---\n",
    "**Ans:-**      To get the answer for the question we should first calculate the number of female passanger and male passanger.   \n",
    "Then calculate how many survived from the total number of passangers"
   ]
  },
  {
   "cell_type": "markdown",
   "metadata": {},
   "source": [
    "Lets create our hypothesis and the null hypothesis is that there should be no difference in the survival rate of all the passangers on the basis of gender.    \n",
    "And Alternate hypothesis is that there will be difference between and the survival rate will vary according to the gender    \n",
    "Ho:- Sf = Sm   \n",
    "Ha:- SF != Sm   \n",
    "Sf = Survival rate of female    \n",
    "Sm = Survival rate of male"
   ]
  },
  {
   "cell_type": "markdown",
   "metadata": {},
   "source": [
    "**Code :-**"
   ]
  },
  {
   "cell_type": "code",
   "execution_count": 352,
   "metadata": {
    "collapsed": false
   },
   "outputs": [
    {
     "name": "stdout",
     "output_type": "stream",
     "text": [
      "FEMALE\n",
      "======\n",
      "Total number of Female passangers:- 314\n",
      "Total number of Female passangers survived:- 233\n",
      "Number of female not survived:- 81\n",
      "\n",
      "MALE\n",
      "====\n",
      "Total number of Male passangers:- 577\n",
      "Total number of Male passangers survived:- 109\n",
      "Number of female not survived:- 468\n"
     ]
    }
   ],
   "source": [
    "gp_gender=titanic_data.groupby('Sex')                    #Group data according to the gender\n",
    "count_total=gp_gender.count()['PassengerId']             #count the total in the grouped data\n",
    "sum_col=gp_gender.sum()                                  #Add the values of the Columns\n",
    "print \"FEMALE\"\n",
    "print \"======\"\n",
    "print 'Total number of Female passangers:-',count_total.loc['female']\n",
    "print 'Total number of Female passangers survived:-',sum_col['Survived'].loc['female']\n",
    "print 'Number of female not survived:-',(count_total.loc['female'])-(sum_col['Survived'].loc['female'])\n",
    "print \"\\nMALE\"\n",
    "print \"====\"\n",
    "print 'Total number of Male passangers:-',count_total.loc['male']\n",
    "print 'Total number of Male passangers survived:-',sum_col['Survived'].loc['male']\n",
    "print 'Number of female not survived:-',(count_total.loc['male'])-(sum_col['Survived'].loc['male'])"
   ]
  },
  {
   "cell_type": "code",
   "execution_count": 353,
   "metadata": {
    "collapsed": false
   },
   "outputs": [
    {
     "data": {
      "image/png": "[encoded data removed]",
      "text/plain": [
       "<matplotlib.figure.Figure at 0xdbdb4a8>"
      ]
     },
     "metadata": {},
     "output_type": "display_data"
    }
   ],
   "source": [
    "xvalue=[1,2]\n",
    "plt.bar(xvalue,count_total,align='center')\n",
    "plt.xticks(xvalue,['Female','Male'])\n",
    "plt.title(\"Number of Passanger Female/Male\")\n",
    "plt.ylabel(\"Frequency\")\n",
    "plt.show()"
   ]
  },
  {
   "cell_type": "markdown",
   "metadata": {},
   "source": [
    "Note:- Number of Males Passanger are more as compare to the number of Female Passanger."
   ]
  },
  {
   "cell_type": "code",
   "execution_count": 354,
   "metadata": {
    "collapsed": true
   },
   "outputs": [],
   "source": [
    "def plot_percentage(gender):\n",
    "    labels = ['Survived','Not Survived']\n",
    "    sizes = [(sum_col['Survived'].loc[gender]),((count_total.loc[gender])-(sum_col['Survived'].loc[gender]))]\n",
    "    colors = ['green','red']\n",
    "    explode=(1,0)\n",
    "    plt.pie(sizes, explode=(0.1,0), labels=labels, colors=colors,\n",
    "        autopct='%.1f%%', shadow=True, startangle=60,radius=0.25)\n",
    "    plt.axis('equal')\n",
    "    plt.title(gender.upper())\n",
    "    plt.show()"
   ]
  },
  {
   "cell_type": "code",
   "execution_count": 355,
   "metadata": {
    "collapsed": false,
    "scrolled": false
   },
   "outputs": [
    {
     "data": {
      "image/png": "[encoded data removed]",
      "text/plain": [
       "<matplotlib.figure.Figure at 0xc536c50>"
      ]
     },
     "metadata": {},
     "output_type": "display_data"
    },
    {
     "data": {
      "image/png": "[encoded data removed]",
      "text/plain": [
       "<matplotlib.figure.Figure at 0xcdb1ef0>"
      ]
     },
     "metadata": {},
     "output_type": "display_data"
    }
   ],
   "source": [
    "plot_percentage('female')\n",
    "plot_percentage('male')\n"
   ]
  },
  {
   "cell_type": "markdown",
   "metadata": {
    "collapsed": false
   },
   "source": [
    ">The female survival rate is more as compare to the male survival rate.  \n",
    "And it can be seen in the pie chart.   \n",
    "As we can see that the number of Female passanger are less in number as compare to the male passanger from the bar graph above    still 74.2% Female survived But only 18.9% male survived. \n",
    "\n",
    "_____"
   ]
  },
  {
   "cell_type": "markdown",
   "metadata": {},
   "source": [
    "**Q2.** How the passanger survival varies with the age of the passangers ?\n",
    "---\n",
    "**Ans:-**   The data has passanger's age and it would be nice to see the variation of passanger survival on the basis of the age of the passanger. we will be able to tell after analysis that which age people are better at survival and the age at which the survival rate is low.\n",
    "\n",
    "As we already know that 177 values of age columns are empty it means we don't have 177 passanger's age.\n",
    "\n",
    "So we have two options:-\n",
    "1. Either don't consider the passenger's who don't have there age mentioned, Or\n",
    "2. Give the passenger who don't have age given some values\n",
    "\n",
    "Both options have their pros and cons.\n",
    "\n",
    "Lets talk about first option.   \n",
    "<u>Pro</u> :-   If we discard the values whose age is not provided then we can give correct variation of age to survival rate of the passengers whose is provided.     \n",
    "<u>Con</u> :-   We can't give the variation of survival rate with all the passangers of the titanic because we have not considered the complete data set and this changes the stastical values\n",
    "\n",
    "Now comes the second option.     \n",
    "<u>Pro</u> :-  If we give the passanger some age value then we can calculate the complete titanic data on the basis of that age values.    \n",
    "<u>Con</u> :- But the bigest drawback is that it will completely change the variation of the complete data set"
   ]
  },
  {
   "cell_type": "markdown",
   "metadata": {},
   "source": [
    "**Code:-**\n",
    "____"
   ]
  },
  {
   "cell_type": "code",
   "execution_count": 356,
   "metadata": {
    "collapsed": false
   },
   "outputs": [],
   "source": [
    "gp_age = titanic_data.groupby('Age',as_index=False)"
   ]
  },
  {
   "cell_type": "markdown",
   "metadata": {
    "collapsed": false
   },
   "source": [
    "Firstly lets draw some relations on the data that we have or only consider the passangers whose ages are given."
   ]
  },
  {
   "cell_type": "code",
   "execution_count": 357,
   "metadata": {
    "collapsed": false
   },
   "outputs": [
    {
     "name": "stdout",
     "output_type": "stream",
     "text": [
      "342.0\n"
     ]
    }
   ],
   "source": [
    "total_survived=titanic_data.sum()['Survived']\n",
    "print total_survived"
   ]
  },
  {
   "cell_type": "code",
   "execution_count": 358,
   "metadata": {
    "collapsed": false
   },
   "outputs": [
    {
     "name": "stdout",
     "output_type": "stream",
     "text": [
      "290.0\n",
      "52.0\n"
     ]
    }
   ],
   "source": [
    "gp_sum_age=gp_age.sum()\n",
    "survived_with_age=gp_sum_age.sum()['Survived']\n",
    "print survived_with_age\n",
    "survived_without_age= total_survived-survived_with_age\n",
    "print survived_without_age"
   ]
  },
  {
   "cell_type": "markdown",
   "metadata": {},
   "source": [
    "We have already calculated that there are 714 passanger whose age is given and from 714 passangers 290 passangers have survived.    \n",
    "And among the 177 passangers whose age is not available the number of surviving passangers is 52.     \n",
    "so lets draw some visual representation of variation of passanger survival for the passangers whose age is given."
   ]
  },
  {
   "cell_type": "code",
   "execution_count": 359,
   "metadata": {
    "collapsed": false
   },
   "outputs": [
    {
     "data": {
      "image/png": "[encoded data removed]",
      "text/plain": [
       "<matplotlib.figure.Figure at 0xc8db5f8>"
      ]
     },
     "metadata": {},
     "output_type": "display_data"
    }
   ],
   "source": [
    "plt.scatter(gp_sum_age['Age'],gp_sum_age['Survived'])\n",
    "plt.xlabel(\"Age\")\n",
    "plt.ylabel(\"Number of survivals\")\n",
    "plt.title('Variation of number of Survival accoding to age')\n",
    "plt.show()"
   ]
  },
  {
   "cell_type": "code",
   "execution_count": 360,
   "metadata": {
    "collapsed": false
   },
   "outputs": [
    {
     "name": "stdout",
     "output_type": "stream",
     "text": [
      "The age of passanger who survived most is:- 24.0\n"
     ]
    }
   ],
   "source": [
    "print 'The age of passanger who survived most is:-',gp_sum_age['Age'].iloc[gp_sum_age['Survived'].argmax()]"
   ]
  },
  {
   "cell_type": "code",
   "execution_count": 361,
   "metadata": {
    "collapsed": false
   },
   "outputs": [
    {
     "name": "stdout",
     "output_type": "stream",
     "text": [
      "The value of the maximum survial grrouped by Age is:-  15\n"
     ]
    }
   ],
   "source": [
    "print 'The value of the maximum survial grrouped by Age is:- ',gp_sum_age['Survived'].max()\n"
   ]
  },
  {
   "cell_type": "markdown",
   "metadata": {},
   "source": [
    "Now lets group the survived passangers in the age blocks of 20 each."
   ]
  },
  {
   "cell_type": "code",
   "execution_count": 362,
   "metadata": {
    "collapsed": false,
    "scrolled": true
   },
   "outputs": [
    {
     "name": "stdout",
     "output_type": "stream",
     "text": [
      "[82.0, 153.0, 50.0, 5.0, 52.0]\n",
      "[0 1 2 3 4]\n"
     ]
    },
    {
     "name": "stderr",
     "output_type": "stream",
     "text": [
      "C:\\Anaconda2\\lib\\site-packages\\ipykernel\\__main__.py:4: UserWarning: Boolean Series key will be reindexed to match DataFrame index.\n"
     ]
    }
   ],
   "source": [
    "def ret_group(start,end):\n",
    "    ind =  gp_sum_age[gp_sum_age['Age']>start].index[0]\n",
    "    sliced_df=gp_sum_age.iloc[ind:]\n",
    "    return sliced_df[gp_sum_age['Age']<=end].sum()['Survived']\n",
    "group_values_survived=[]\n",
    "for i in range(4):\n",
    "    group_values_survived.append(ret_group(20*i,20*(i+1)))\n",
    "group_values_survived.append(survived_without_age)\n",
    "print group_values_survived\n",
    "x_axis_survived=np.arange(5)\n",
    "print x_axis_survived"
   ]
  },
  {
   "cell_type": "code",
   "execution_count": 363,
   "metadata": {
    "collapsed": false
   },
   "outputs": [
    {
     "name": "stdout",
     "output_type": "stream",
     "text": [
      "Total Passangers with age given:-  714.0\n",
      "After grouping Data with 20 age difference\n",
      "[179.0, 385.0, 128.0, 22.0, 177]\n",
      "[  97.  232.   78.   17.  125.]\n"
     ]
    },
    {
     "name": "stderr",
     "output_type": "stream",
     "text": [
      "C:\\Anaconda2\\lib\\site-packages\\ipykernel\\__main__.py:6: UserWarning: Boolean Series key will be reindexed to match DataFrame index.\n"
     ]
    }
   ],
   "source": [
    "gp_count = gp_age.count()\n",
    "print 'Total Passangers with age given:- ',gp_count.sum()['PassengerId']\n",
    "def ret_group_total(start,end):\n",
    "    ind =  gp_count[gp_count['Age']>start].index[0]\n",
    "    sliced_df=gp_count.iloc[ind:]\n",
    "    return sliced_df[gp_count['Age']<=end].sum()['Survived']\n",
    "print \"After grouping Data with 20 age difference\"\n",
    "group_values_total=[]\n",
    "for i in range(4):\n",
    "    group_values_total.append(ret_group_total(20*i,20*(i+1)))\n",
    "group_values_total.append(cw)\n",
    "print group_values_total\n",
    "group_values_notsurvived=np.array(group_values_total)-group_values_survived\n",
    "print group_values_notsurvived"
   ]
  },
  {
   "cell_type": "code",
   "execution_count": 364,
   "metadata": {
    "collapsed": false
   },
   "outputs": [
    {
     "data": {
      "image/png": "[encoded data removed]",
      "text/plain": [
       "<matplotlib.figure.Figure at 0xccbc9e8>"
      ]
     },
     "metadata": {},
     "output_type": "display_data"
    }
   ],
   "source": [
    "w=.8\n",
    "p1=plt.bar(x_axis_survived,group_values_survived,width=w,color='green',align='center')\n",
    "p2=plt.bar(x_axis_survived,group_values_notsurvived,bottom=group_values_survived,width=w,color='red',align='center')\n",
    "plt.xticks(x_axis_total,('0-20','20-40','40-60','60-80','No Age'))\n",
    "plt.legend((p2[0], p1[0]), ('Not Survived','Survived'))\n",
    "plt.title('Representation of survived passenger out of total number of passanger according to the age group')\n",
    "plt.show()"
   ]
  },
  {
   "cell_type": "markdown",
   "metadata": {},
   "source": [
    "It can be seen that age group of 20-40 survived most but also number of passanger are also more in this group     \n",
    "The last group is of passengers whose age is not given"
   ]
  },
  {
   "cell_type": "code",
   "execution_count": null,
   "metadata": {
    "collapsed": false
   },
   "outputs": [],
   "source": []
  }
 ],
 "metadata": {
  "kernelspec": {
   "display_name": "Python 2",
   "language": "python",
   "name": "python2"
  },
  "language_info": {
   "codemirror_mode": {
    "name": "ipython",
    "version": 2
   },
   "file_extension": ".py",
   "mimetype": "text/x-python",
   "name": "python",
   "nbconvert_exporter": "python",
   "pygments_lexer": "ipython2",
   "version": "2.7.11"
  }
 },
 "nbformat": 4,
 "nbformat_minor": 0
}
